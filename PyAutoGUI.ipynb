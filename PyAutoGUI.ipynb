{
  "nbformat": 4,
  "nbformat_minor": 0,
  "metadata": {
    "colab": {
      "provenance": [],
      "authorship_tag": "ABX9TyM6DynN4I9RYRiW/67AxJa4",
      "include_colab_link": true
    },
    "kernelspec": {
      "name": "python3",
      "display_name": "Python 3"
    },
    "language_info": {
      "name": "python"
    }
  },
  "cells": [
    {
      "cell_type": "markdown",
      "metadata": {
        "id": "view-in-github",
        "colab_type": "text"
      },
      "source": [
        "<a href=\"https://colab.research.google.com/github/guilhermelaviola/PythonHashtag/blob/main/PyAutoGUI.ipynb\" target=\"_parent\"><img src=\"https://colab.research.google.com/assets/colab-badge.svg\" alt=\"Open In Colab\"/></a>"
      ]
    },
    {
      "cell_type": "markdown",
      "source": [
        "# **PyAutoGUI example**"
      ],
      "metadata": {
        "id": "5OIZjoCkTD_S"
      }
    },
    {
      "cell_type": "code",
      "source": [
        "pip install pyautogui"
      ],
      "metadata": {
        "colab": {
          "base_uri": "https://localhost:8080/"
        },
        "id": "Q_SVxmmmTrq-",
        "outputId": "89387ac6-5c4b-4f89-812a-5024955c0ee3"
      },
      "execution_count": 3,
      "outputs": [
        {
          "output_type": "stream",
          "name": "stdout",
          "text": [
            "Collecting pyautogui\n",
            "  Downloading PyAutoGUI-0.9.54.tar.gz (61 kB)\n",
            "\u001b[?25l     \u001b[90m━━━━━━━━━━━━━━━━━━━━━━━━━━━━━━━━━━━━━━━━\u001b[0m \u001b[32m0.0/61.2 kB\u001b[0m \u001b[31m?\u001b[0m eta \u001b[36m-:--:--\u001b[0m\r\u001b[2K     \u001b[90m━━━━━━━━━━━━━━━━━━━━━━━━━━━━━━━━━━━━━━━━\u001b[0m \u001b[32m61.2/61.2 kB\u001b[0m \u001b[31m4.8 MB/s\u001b[0m eta \u001b[36m0:00:00\u001b[0m\n",
            "\u001b[?25h  Installing build dependencies ... \u001b[?25l\u001b[?25hdone\n",
            "  Getting requirements to build wheel ... \u001b[?25l\u001b[?25hdone\n",
            "  Preparing metadata (pyproject.toml) ... \u001b[?25l\u001b[?25hdone\n",
            "Collecting python3-Xlib (from pyautogui)\n",
            "  Downloading python3-xlib-0.15.tar.gz (132 kB)\n",
            "\u001b[2K     \u001b[90m━━━━━━━━━━━━━━━━━━━━━━━━━━━━━━━━━━━━━━━\u001b[0m \u001b[32m132.8/132.8 kB\u001b[0m \u001b[31m2.0 MB/s\u001b[0m eta \u001b[36m0:00:00\u001b[0m\n",
            "\u001b[?25h  Preparing metadata (setup.py) ... \u001b[?25l\u001b[?25hdone\n",
            "Collecting pymsgbox (from pyautogui)\n",
            "  Downloading PyMsgBox-1.0.9.tar.gz (18 kB)\n",
            "  Installing build dependencies ... \u001b[?25l\u001b[?25hdone\n",
            "  Getting requirements to build wheel ... \u001b[?25l\u001b[?25hdone\n",
            "  Preparing metadata (pyproject.toml) ... \u001b[?25l\u001b[?25hdone\n",
            "Collecting pytweening>=1.0.4 (from pyautogui)\n",
            "  Downloading pytweening-1.2.0.tar.gz (171 kB)\n",
            "\u001b[2K     \u001b[90m━━━━━━━━━━━━━━━━━━━━━━━━━━━━━━━━━━━━━━\u001b[0m \u001b[32m171.2/171.2 kB\u001b[0m \u001b[31m12.5 MB/s\u001b[0m eta \u001b[36m0:00:00\u001b[0m\n",
            "\u001b[?25h  Preparing metadata (setup.py) ... \u001b[?25l\u001b[?25hdone\n",
            "Collecting pyscreeze>=0.1.21 (from pyautogui)\n",
            "  Downloading pyscreeze-1.0.1.tar.gz (27 kB)\n",
            "  Installing build dependencies ... \u001b[?25l\u001b[?25hdone\n",
            "  Getting requirements to build wheel ... \u001b[?25l\u001b[?25hdone\n",
            "  Preparing metadata (pyproject.toml) ... \u001b[?25l\u001b[?25hdone\n",
            "Collecting pygetwindow>=0.0.5 (from pyautogui)\n",
            "  Downloading PyGetWindow-0.0.9.tar.gz (9.7 kB)\n",
            "  Preparing metadata (setup.py) ... \u001b[?25l\u001b[?25hdone\n",
            "Collecting mouseinfo (from pyautogui)\n",
            "  Downloading MouseInfo-0.1.3.tar.gz (10 kB)\n",
            "  Preparing metadata (setup.py) ... \u001b[?25l\u001b[?25hdone\n",
            "Collecting pyrect (from pygetwindow>=0.0.5->pyautogui)\n",
            "  Downloading PyRect-0.2.0.tar.gz (17 kB)\n",
            "  Preparing metadata (setup.py) ... \u001b[?25l\u001b[?25hdone\n",
            "Requirement already satisfied: Pillow>=9.3.0 in /usr/local/lib/python3.11/dist-packages (from pyscreeze>=0.1.21->pyautogui) (11.2.1)\n",
            "Requirement already satisfied: pyperclip in /usr/local/lib/python3.11/dist-packages (from mouseinfo->pyautogui) (1.9.0)\n",
            "Building wheels for collected packages: pyautogui, pygetwindow, pyscreeze, pytweening, mouseinfo, pymsgbox, python3-Xlib, pyrect\n",
            "  Building wheel for pyautogui (pyproject.toml) ... \u001b[?25l\u001b[?25hdone\n",
            "  Created wheel for pyautogui: filename=pyautogui-0.9.54-py3-none-any.whl size=37683 sha256=9987568db57d3870462af10f9af47d3c7210e9dfba4052aef091352c49151ca3\n",
            "  Stored in directory: /root/.cache/pip/wheels/95/dc/b1/fe122b791e0db8bf439a0e6e1d2628e48f10bf430cae13521b\n",
            "  Building wheel for pygetwindow (setup.py) ... \u001b[?25l\u001b[?25hdone\n",
            "  Created wheel for pygetwindow: filename=PyGetWindow-0.0.9-py3-none-any.whl size=11063 sha256=f2930a9a887f8967b89b76f6250aeb215e5120cac7241c00fde909b1224d27f7\n",
            "  Stored in directory: /root/.cache/pip/wheels/07/75/0b/7ca0b598eb4c21d43ba4bcc78a0538dfcf803a5997da33bc19\n",
            "  Building wheel for pyscreeze (pyproject.toml) ... \u001b[?25l\u001b[?25hdone\n",
            "  Created wheel for pyscreeze: filename=pyscreeze-1.0.1-py3-none-any.whl size=14459 sha256=69e23dc44bdcd40592d5a9b594c443adaa2f9a2aaefb393a89a21a5fc159f17f\n",
            "  Stored in directory: /root/.cache/pip/wheels/cd/e3/dd/267b393d8e8f607e47194942740d080d9bfd835cd4375a3de1\n",
            "  Building wheel for pytweening (setup.py) ... \u001b[?25l\u001b[?25hdone\n",
            "  Created wheel for pytweening: filename=pytweening-1.2.0-py3-none-any.whl size=8009 sha256=91740d0e1935bb868ab04813bc68560a80d74bfbb111f29f5f69d508c6dde082\n",
            "  Stored in directory: /root/.cache/pip/wheels/db/81/dc/0d61a3c9614f288e057ab63924e2a49edbeed4ffc916dcda1e\n",
            "  Building wheel for mouseinfo (setup.py) ... \u001b[?25l\u001b[?25hdone\n",
            "  Created wheel for mouseinfo: filename=MouseInfo-0.1.3-py3-none-any.whl size=10888 sha256=0ba04e53d68e7f8ee4f6277dfc77d7ecc020ec9ffaaf52b53dbdd7129615108b\n",
            "  Stored in directory: /root/.cache/pip/wheels/20/0b/7f/939ac9ff785b09951c706150537572c00123412f260a6024f3\n",
            "  Building wheel for pymsgbox (pyproject.toml) ... \u001b[?25l\u001b[?25hdone\n",
            "  Created wheel for pymsgbox: filename=pymsgbox-1.0.9-py3-none-any.whl size=7453 sha256=0eb1a0402aefc7a3ffd7ca3ac6d127fc65066233d348a49daedd807df2f5f2c7\n",
            "  Stored in directory: /root/.cache/pip/wheels/85/92/63/e126ee5f33d8f2ed04f96e43ef5df7270a2f331848752e8662\n",
            "  Building wheel for python3-Xlib (setup.py) ... \u001b[?25l\u001b[?25hdone\n",
            "  Created wheel for python3-Xlib: filename=python3_xlib-0.15-py3-none-any.whl size=109501 sha256=4140292393072f67f8973fd468c40f90d4600acec9eb748f749b6f64c00cf0ed\n",
            "  Stored in directory: /root/.cache/pip/wheels/58/d2/1b/c2247396a6c5fbb1900ccf1ec3b73482d428b137dcdf1d99de\n",
            "  Building wheel for pyrect (setup.py) ... \u001b[?25l\u001b[?25hdone\n",
            "  Created wheel for pyrect: filename=PyRect-0.2.0-py2.py3-none-any.whl size=11181 sha256=8eace4c1fa4e4af9383df8b36ae7d3d944e36243b4b1ccc729334f7fc081fd17\n",
            "  Stored in directory: /root/.cache/pip/wheels/c4/e9/fc/b7a666dd4f9a3168fb44d643079b41d36ddab52f470707e820\n",
            "Successfully built pyautogui pygetwindow pyscreeze pytweening mouseinfo pymsgbox python3-Xlib pyrect\n",
            "Installing collected packages: pytweening, python3-Xlib, pyrect, pymsgbox, pyscreeze, pygetwindow, mouseinfo, pyautogui\n",
            "Successfully installed mouseinfo-0.1.3 pyautogui-0.9.54 pygetwindow-0.0.9 pymsgbox-1.0.9 pyrect-0.2.0 pyscreeze-1.0.1 python3-Xlib-0.15 pytweening-1.2.0\n"
          ]
        }
      ]
    },
    {
      "cell_type": "code",
      "source": [
        "!apt-get update\n",
        "!apt-get install -y xvfb\n",
        "\n",
        "import os\n",
        "os.environ['DISPLAY'] = ':99'  # Set DISPLAY variable to an unused display number\n",
        "!Xvfb :99 -screen 0 1024x768x24 &  # Start Xvfb server in the background"
      ],
      "metadata": {
        "colab": {
          "base_uri": "https://localhost:8080/"
        },
        "id": "zA5TbzbDUCpW",
        "outputId": "45f1ad31-d907-422a-fdab-97f9950b57d9"
      },
      "execution_count": null,
      "outputs": [
        {
          "output_type": "stream",
          "name": "stdout",
          "text": [
            "\r0% [Working]\r            \rGet:1 https://cloud.r-project.org/bin/linux/ubuntu jammy-cran40/ InRelease [3,632 B]\n",
            "\r0% [Waiting for headers] [Waiting for headers] [1 InRelease 3,632 B/3,632 B 100\r0% [Waiting for headers] [Waiting for headers] [Connected to r2u.stat.illinois.\r                                                                               \rHit:2 https://developer.download.nvidia.com/compute/cuda/repos/ubuntu2204/x86_64  InRelease\n",
            "\r0% [Waiting for headers] [Waiting for headers] [Connected to r2u.stat.illinois.\r                                                                               \rGet:3 http://security.ubuntu.com/ubuntu jammy-security InRelease [129 kB]\n",
            "Hit:4 http://archive.ubuntu.com/ubuntu jammy InRelease\n",
            "Hit:5 https://ppa.launchpadcontent.net/deadsnakes/ppa/ubuntu jammy InRelease\n",
            "Hit:6 https://ppa.launchpadcontent.net/graphics-drivers/ppa/ubuntu jammy InRelease\n",
            "Hit:7 https://ppa.launchpadcontent.net/ubuntugis/ppa/ubuntu jammy InRelease\n",
            "Get:8 http://archive.ubuntu.com/ubuntu jammy-updates InRelease [128 kB]\n",
            "Get:9 https://r2u.stat.illinois.edu/ubuntu jammy InRelease [6,555 B]\n",
            "Get:10 http://archive.ubuntu.com/ubuntu jammy-backports InRelease [127 kB]\n",
            "Get:11 http://security.ubuntu.com/ubuntu jammy-security/main amd64 Packages [2,901 kB]\n",
            "Get:12 https://r2u.stat.illinois.edu/ubuntu jammy/main all Packages [8,927 kB]\n",
            "Get:13 http://archive.ubuntu.com/ubuntu jammy-updates/universe amd64 Packages [1,546 kB]\n",
            "Get:14 http://archive.ubuntu.com/ubuntu jammy-updates/main amd64 Packages [3,211 kB]\n",
            "Get:15 https://r2u.stat.illinois.edu/ubuntu jammy/main amd64 Packages [2,722 kB]\n",
            "Fetched 19.7 MB in 4s (4,955 kB/s)\n",
            "Reading package lists... Done\n",
            "W: Skipping acquire of configured file 'main/source/Sources' as repository 'https://r2u.stat.illinois.edu/ubuntu jammy InRelease' does not seem to provide it (sources.list entry misspelt?)\n",
            "Reading package lists... Done\n",
            "Building dependency tree... Done\n",
            "Reading state information... Done\n",
            "xvfb is already the newest version (2:21.1.4-2ubuntu1.7~22.04.14).\n",
            "0 upgraded, 0 newly installed, 0 to remove and 35 not upgraded.\n"
          ]
        }
      ]
    },
    {
      "cell_type": "code",
      "source": [
        "# Passo a passo do projeto\n",
        "# Passo 1: Entrar no sistema da empresa\n",
        "    # https://dlp.hashtagtreinamentos.com/python/intensivao/login\n",
        "\n",
        "import pyautogui\n",
        "import time\n",
        "\n",
        "# pyautogui.write -> escrever um texto\n",
        "# pyautogui.press -> apertar 1 tecla\n",
        "# pyautogui.click -> clicar em algum lugar da tela\n",
        "# pyautogui.hotkey -> combinação de teclas\n",
        "pyautogui.PAUSE = 0.3\n",
        "\n",
        "# abrir o navegador (chrome)\n",
        "pyautogui.press('win')\n",
        "pyautogui.write('chrome')\n",
        "pyautogui.press('enter')\n",
        "\n",
        "# entrar no link\n",
        "pyautogui.write('https://dlp.hashtagtreinamentos.com/python/intensivao/login')\n",
        "pyautogui.press('enter')\n",
        "time.sleep(3)"
      ],
      "metadata": {
        "id": "jP8Gy8GwTKje"
      },
      "execution_count": null,
      "outputs": []
    },
    {
      "cell_type": "code",
      "source": [
        "# Passo 2: Fazer login\n",
        "# selecionar o campo de email\n",
        "pyautogui.click(x=685, y=451)\n",
        "# escrever o seu email\n",
        "pyautogui.write('pythonimpressionador@gmail.com')\n",
        "pyautogui.press('tab') # passando pro próximo campo\n",
        "pyautogui.write('sua senha')\n",
        "pyautogui.click(x=955, y=638) # clique no botao de login\n",
        "time.sleep(3)"
      ],
      "metadata": {
        "id": "r3d8Z-LFTMpY"
      },
      "execution_count": null,
      "outputs": []
    },
    {
      "cell_type": "code",
      "source": [
        "# Passo 3: Importar a base de produtos pra cadastrar\n",
        "import pandas as pd\n",
        "\n",
        "tabela = pd.read_csv('products.csv')\n",
        "\n",
        "print(tabela)"
      ],
      "metadata": {
        "id": "I5ratZsRTQT8"
      },
      "execution_count": null,
      "outputs": []
    },
    {
      "cell_type": "code",
      "source": [
        "# Passo 4: Cadastrar um produto\n",
        "for linha in tabela.index:\n",
        "    # clicar no campo de código\n",
        "    pyautogui.click(x=653, y=294)\n",
        "    # pegar da tabela o valor do campo que a gente quer preencher\n",
        "    codigo = tabela.loc[linha, 'codigo']\n",
        "    # preencher o campo\n",
        "    pyautogui.write(str(codigo))\n",
        "    # passar para o proximo campo\n",
        "    pyautogui.press('tab')\n",
        "    # preencher o campo\n",
        "    pyautogui.write(str(tabela.loc[linha, 'marca']))\n",
        "    pyautogui.press('tab')\n",
        "    pyautogui.write(str(tabela.loc[linha, 'tipo']))\n",
        "    pyautogui.press('tab')\n",
        "    pyautogui.write(str(tabela.loc[linha, 'categoria']))\n",
        "    pyautogui.press('tab')\n",
        "    pyautogui.write(str(tabela.loc[linha, 'preco_unitario']))\n",
        "    pyautogui.press('tab')\n",
        "    pyautogui.write(str(tabela.loc[linha, 'custo']))\n",
        "    pyautogui.press('tab')\n",
        "    obs = tabela.loc[linha, 'obs']\n",
        "    if not pd.isna(obs):\n",
        "        pyautogui.write(str(tabela.loc[linha, 'obs']))\n",
        "    pyautogui.press('tab')\n",
        "    pyautogui.press('enter') # cadastra o produto (botao enviar)\n",
        "    # dar scroll de tudo pra cima\n",
        "    pyautogui.scroll(5000)\n",
        "    # Passo 5: Repetir o processo de cadastro até o fim"
      ],
      "metadata": {
        "id": "SvrRzNKUTUJm"
      },
      "execution_count": null,
      "outputs": []
    }
  ]
}